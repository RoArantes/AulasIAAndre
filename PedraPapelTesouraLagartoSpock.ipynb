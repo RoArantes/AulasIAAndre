{
  "cells": [
    {
      "cell_type": "markdown",
      "metadata": {
        "id": "view-in-github",
        "colab_type": "text"
      },
      "source": [
        "<a href=\"https://colab.research.google.com/github/RoArantes/AulasIAAndre/blob/main/PedraPapelTesouraLagartoSpock.ipynb\" target=\"_parent\"><img src=\"https://colab.research.google.com/assets/colab-badge.svg\" alt=\"Open In Colab\"/></a>"
      ]
    },
    {
      "cell_type": "code",
      "source": [
        "import random\n",
        "\n",
        "def jogar_pedra_papel_tesoura_lagarto_spock(opcao_desejada):\n",
        "  escolhas_possiveis = ['pedra', 'papel', 'tesoura','lagarto','Spock']\n",
        "  escolha_computador = random.choice(escolhas_possiveis)\n",
        "\n",
        "  print(f'\\nVoce escolheu: {opcao_desejada}')\n",
        "  print(f'O computador escolheu: {escolha_computador}')\n",
        "\n",
        "  if opcao_desejada == escolha_computador:\n",
        "    return f\"Empate! Você escolheu {opcao_desejada} e o computador também escolheu {escolha_computador}.\"\n",
        "  elif (opcao_desejada == 'tesoura' and escolha_computador == 'papel') or \\\n",
        "        (opcao_desejada == 'papel' and escolha_computador == 'pedra') or \\\n",
        "        (opcao_desejada == 'pedra' and escolha_computador == 'lagarto') or \\\n",
        "        (opcao_desejada == 'lagarto' and escolha_computador == 'Spock') or \\\n",
        "        (opcao_desejada == 'Spock' and escolha_computador == 'tesoura') or \\\n",
        "        (opcao_desejada == 'tesoura' and escolha_computador == 'lagarto') or \\\n",
        "        (opcao_desejada == 'lagarto' and escolha_computador == 'papel') or \\\n",
        "        (opcao_desejada == 'papel' and escolha_computador == 'Spock') or \\\n",
        "        (opcao_desejada == 'Spock' and escolha_computador == 'pedra') or \\\n",
        "        (opcao_desejada == 'pedra' and escolha_computador == 'tesoura'):\n",
        "\n",
        "        return f\"Você ganhou! Você escolheu {opcao_desejada} e o computador escolheu {escolha_computador}.\"\n",
        "  else:\n",
        "    return \"O computador venceu!\"\n",
        "\n",
        "print (\"Olá! Vamos jogar?\")\n",
        "\n",
        "while True:\n",
        "  opcao_desejada = input (\"Qual sua opção: (pedra, papel, tesoura, lagarto, Spock) para sair, digite 'sair' \")\n",
        "  if opcao_desejada == 'sair':\n",
        "    print(\"Até logo!\")\n",
        "    break\n",
        "  elif opcao_desejada not in ('pedra', 'papel', 'tesoura', 'lagarto', 'Spock'):\n",
        "    print(\"Opção inválida. Tente novamente.\")\n",
        "  else:\n",
        "    resultado = jogar_pedra_papel_tesoura_lagarto_spock(opcao_desejada)\n",
        "    print(resultado)\n"
      ],
      "metadata": {
        "id": "YCym6X26joHd"
      },
      "execution_count": null,
      "outputs": []
    }
  ],
  "metadata": {
    "colab": {
      "provenance": [],
      "include_colab_link": true
    },
    "kernelspec": {
      "display_name": "Python 3",
      "name": "python3"
    }
  },
  "nbformat": 4,
  "nbformat_minor": 0
}