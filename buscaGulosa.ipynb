{
  "nbformat": 4,
  "nbformat_minor": 0,
  "metadata": {
    "colab": {
      "provenance": [],
      "toc_visible": true,
      "authorship_tag": "ABX9TyNCQrCkmFa0tXPJEFxW2mwg",
      "include_colab_link": true
    },
    "kernelspec": {
      "name": "python3",
      "display_name": "Python 3"
    },
    "language_info": {
      "name": "python"
    }
  },
  "cells": [
    {
      "cell_type": "markdown",
      "metadata": {
        "id": "view-in-github",
        "colab_type": "text"
      },
      "source": [
        "<a href=\"https://colab.research.google.com/github/RoArantes/AulasIAAndre/blob/main/buscaGulosa.ipynb\" target=\"_parent\"><img src=\"https://colab.research.google.com/assets/colab-badge.svg\" alt=\"Open In Colab\"/></a>"
      ]
    },
    {
      "cell_type": "code",
      "execution_count": 1,
      "metadata": {
        "colab": {
          "base_uri": "https://localhost:8080/"
        },
        "id": "EuINuB-ih8Us",
        "outputId": "54f3c6cc-5583-4b90-9055-13d453074812"
      },
      "outputs": [
        {
          "output_type": "stream",
          "name": "stdout",
          "text": [
            "Rota planejada: A ➝ B ➝ C ➝ E\n"
          ]
        }
      ],
      "source": [
        "grafo_entregas = {\n",
        "    'A': {'B': 10, 'C': 20, 'D': 15},\n",
        "    'B': {'A': 10, 'C': 25, 'E': 30},\n",
        "    'C': {'A': 20, 'B': 25, 'D': 35, 'E': 40},\n",
        "    'D': {'A': 15, 'C': 35, 'E': 45},\n",
        "    'E': {'B': 30, 'C': 40, 'D': 45}\n",
        "}\n",
        "\n",
        "atracoes_turisticas = {\n",
        "    'B': 'Clube Aquático',\n",
        "    'C': 'Show da Turma da Mônica',\n",
        "    'E': 'Apresentação de um Coral'\n",
        "}\n",
        "\n",
        "def busca_gulosa(grafo, inicio, destinos):\n",
        "    visitados = set()\n",
        "    caminho = [inicio]\n",
        "    atual = inicio\n",
        "\n",
        "    while destinos:\n",
        "        vizinhos = grafo[atual]\n",
        "        # Filtra vizinhos ainda não visitados e que estão entre os destinos\n",
        "        proximos = {cidade: custo for cidade, custo in vizinhos.items() if cidade in destinos}\n",
        "\n",
        "        if not proximos:\n",
        "            break  # Não há mais caminhos diretos para os destinos restantes\n",
        "\n",
        "        # Escolhe o vizinho mais próximo (menor custo)\n",
        "        proxima_cidade = min(proximos, key=proximos.get)\n",
        "        caminho.append(proxima_cidade)\n",
        "        visitados.add(proxima_cidade)\n",
        "        destinos.remove(proxima_cidade)\n",
        "        atual = proxima_cidade\n",
        "\n",
        "    return caminho\n",
        "\n",
        "# Teste da função\n",
        "origem = 'A'\n",
        "destinos_com_atracoes = set(atracoes_turisticas.keys())\n",
        "rota = busca_gulosa(grafo_entregas, origem, destinos_com_atracoes.copy())\n",
        "\n",
        "print(\"Rota planejada:\", \" ➝ \".join(rota))\n"
      ]
    }
  ]
}